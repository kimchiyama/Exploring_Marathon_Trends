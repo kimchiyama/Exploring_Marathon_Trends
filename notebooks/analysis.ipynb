{
 "cells": [
  {
   "cell_type": "code",
   "execution_count": 1,
   "id": "d115eca6-3b51-4667-92f9-f1a8583da8d6",
   "metadata": {},
   "outputs": [],
   "source": [
    "import pandas as pd\n",
    "import numpy as np\n",
    "import matplotlib.pyplot as plt\n",
    "import seaborn as sns\n",
    "\n",
    "%matplotlib inline"
   ]
  },
  {
   "cell_type": "code",
   "execution_count": 3,
   "id": "543ec81e-efdc-4431-b78c-e3b0ada9d319",
   "metadata": {},
   "outputs": [],
   "source": [
    "#Loading the required datasets\n",
    "\n",
    "results_2023 = pd.read_csv('../data/2023_results.csv')\n",
    "races_2023 = pd.read_csv('../data/2023_races.csv')\n",
    "results_2024 = pd.read_csv('../data/2024_results.csv')\n",
    "races_2024 = pd.read_csv('../data/2024_races.csv')\n",
    "boston_men = pd.read_csv('../data/boston_men.csv')\n",
    "boston_women = pd.read_csv('../data/boston_women.csv')\n",
    "survey_summary = pd.read_csv('../data/survey_summary.csv')"
   ]
  },
  {
   "cell_type": "code",
   "execution_count": 5,
   "id": "5d023b09",
   "metadata": {},
   "outputs": [
    {
     "data": {
      "text/html": [
       "<div>\n",
       "<style scoped>\n",
       "    .dataframe tbody tr th:only-of-type {\n",
       "        vertical-align: middle;\n",
       "    }\n",
       "\n",
       "    .dataframe tbody tr th {\n",
       "        vertical-align: top;\n",
       "    }\n",
       "\n",
       "    .dataframe thead th {\n",
       "        text-align: right;\n",
       "    }\n",
       "</style>\n",
       "<table border=\"1\" class=\"dataframe\">\n",
       "  <thead>\n",
       "    <tr style=\"text-align: right;\">\n",
       "      <th></th>\n",
       "      <th>Name</th>\n",
       "      <th>Race</th>\n",
       "      <th>Year</th>\n",
       "      <th>Gender</th>\n",
       "      <th>Age</th>\n",
       "      <th>Finish</th>\n",
       "      <th>Age Bracket</th>\n",
       "    </tr>\n",
       "  </thead>\n",
       "  <tbody>\n",
       "    <tr>\n",
       "      <th>0</th>\n",
       "      <td>Arunas Jurkus</td>\n",
       "      <td>Salt Lake City Marathon</td>\n",
       "      <td>2023</td>\n",
       "      <td>M</td>\n",
       "      <td>55</td>\n",
       "      <td>12907</td>\n",
       "      <td>55-59</td>\n",
       "    </tr>\n",
       "    <tr>\n",
       "      <th>1</th>\n",
       "      <td>Seth Reed</td>\n",
       "      <td>Salt Lake City Marathon</td>\n",
       "      <td>2023</td>\n",
       "      <td>M</td>\n",
       "      <td>24</td>\n",
       "      <td>12921</td>\n",
       "      <td>Under 35</td>\n",
       "    </tr>\n",
       "    <tr>\n",
       "      <th>2</th>\n",
       "      <td>Mufaro Chivasa</td>\n",
       "      <td>Salt Lake City Marathon</td>\n",
       "      <td>2023</td>\n",
       "      <td>M</td>\n",
       "      <td>54</td>\n",
       "      <td>12948</td>\n",
       "      <td>50-54</td>\n",
       "    </tr>\n",
       "    <tr>\n",
       "      <th>3</th>\n",
       "      <td>Adam Cheney</td>\n",
       "      <td>Salt Lake City Marathon</td>\n",
       "      <td>2023</td>\n",
       "      <td>M</td>\n",
       "      <td>22</td>\n",
       "      <td>12954</td>\n",
       "      <td>Under 35</td>\n",
       "    </tr>\n",
       "    <tr>\n",
       "      <th>4</th>\n",
       "      <td>Michael Pyles</td>\n",
       "      <td>Salt Lake City Marathon</td>\n",
       "      <td>2023</td>\n",
       "      <td>M</td>\n",
       "      <td>33</td>\n",
       "      <td>12964</td>\n",
       "      <td>Under 35</td>\n",
       "    </tr>\n",
       "  </tbody>\n",
       "</table>\n",
       "</div>"
      ],
      "text/plain": [
       "             Name                     Race  Year Gender  Age  Finish  \\\n",
       "0   Arunas Jurkus  Salt Lake City Marathon  2023      M   55   12907   \n",
       "1       Seth Reed  Salt Lake City Marathon  2023      M   24   12921   \n",
       "2  Mufaro Chivasa  Salt Lake City Marathon  2023      M   54   12948   \n",
       "3     Adam Cheney  Salt Lake City Marathon  2023      M   22   12954   \n",
       "4   Michael Pyles  Salt Lake City Marathon  2023      M   33   12964   \n",
       "\n",
       "  Age Bracket  \n",
       "0       55-59  \n",
       "1    Under 35  \n",
       "2       50-54  \n",
       "3    Under 35  \n",
       "4    Under 35  "
      ]
     },
     "execution_count": 5,
     "metadata": {},
     "output_type": "execute_result"
    }
   ],
   "source": [
    "results_2023.head()\n"
   ]
  },
  {
   "cell_type": "code",
   "execution_count": 6,
   "id": "7a213ad2",
   "metadata": {},
   "outputs": [
    {
     "data": {
      "text/html": [
       "<div>\n",
       "<style scoped>\n",
       "    .dataframe tbody tr th:only-of-type {\n",
       "        vertical-align: middle;\n",
       "    }\n",
       "\n",
       "    .dataframe tbody tr th {\n",
       "        vertical-align: top;\n",
       "    }\n",
       "\n",
       "    .dataframe thead th {\n",
       "        text-align: right;\n",
       "    }\n",
       "</style>\n",
       "<table border=\"1\" class=\"dataframe\">\n",
       "  <thead>\n",
       "    <tr style=\"text-align: right;\">\n",
       "      <th></th>\n",
       "      <th>Name</th>\n",
       "      <th>Race</th>\n",
       "      <th>Year</th>\n",
       "      <th>Gender</th>\n",
       "      <th>Finish</th>\n",
       "      <th>Age Group</th>\n",
       "    </tr>\n",
       "  </thead>\n",
       "  <tbody>\n",
       "    <tr>\n",
       "      <th>0</th>\n",
       "      <td>Zouhair Talbi</td>\n",
       "      <td>Houston Marathon</td>\n",
       "      <td>2024</td>\n",
       "      <td>Men</td>\n",
       "      <td>7599</td>\n",
       "      <td>25-29</td>\n",
       "    </tr>\n",
       "    <tr>\n",
       "      <th>1</th>\n",
       "      <td>Tsedat Ayana</td>\n",
       "      <td>Houston Marathon</td>\n",
       "      <td>2024</td>\n",
       "      <td>Men</td>\n",
       "      <td>7620</td>\n",
       "      <td>25-29</td>\n",
       "    </tr>\n",
       "    <tr>\n",
       "      <th>2</th>\n",
       "      <td>Hendrik Pfeiffer</td>\n",
       "      <td>Houston Marathon</td>\n",
       "      <td>2024</td>\n",
       "      <td>Men</td>\n",
       "      <td>7634</td>\n",
       "      <td>30-34</td>\n",
       "    </tr>\n",
       "    <tr>\n",
       "      <th>3</th>\n",
       "      <td>Pat Tiernan</td>\n",
       "      <td>Houston Marathon</td>\n",
       "      <td>2024</td>\n",
       "      <td>Men</td>\n",
       "      <td>7665</td>\n",
       "      <td>25-29</td>\n",
       "    </tr>\n",
       "    <tr>\n",
       "      <th>4</th>\n",
       "      <td>Hugo Edgardo Catrileo Tapia</td>\n",
       "      <td>Houston Marathon</td>\n",
       "      <td>2024</td>\n",
       "      <td>Men</td>\n",
       "      <td>7724</td>\n",
       "      <td>25-29</td>\n",
       "    </tr>\n",
       "  </tbody>\n",
       "</table>\n",
       "</div>"
      ],
      "text/plain": [
       "                          Name              Race  Year Gender  Finish  \\\n",
       "0                Zouhair Talbi  Houston Marathon  2024    Men    7599   \n",
       "1                 Tsedat Ayana  Houston Marathon  2024    Men    7620   \n",
       "2             Hendrik Pfeiffer  Houston Marathon  2024    Men    7634   \n",
       "3                  Pat Tiernan  Houston Marathon  2024    Men    7665   \n",
       "4  Hugo Edgardo Catrileo Tapia  Houston Marathon  2024    Men    7724   \n",
       "\n",
       "  Age Group  \n",
       "0     25-29  \n",
       "1     25-29  \n",
       "2     30-34  \n",
       "3     25-29  \n",
       "4     25-29  "
      ]
     },
     "execution_count": 6,
     "metadata": {},
     "output_type": "execute_result"
    }
   ],
   "source": [
    "results_2024.head()"
   ]
  },
  {
   "cell_type": "markdown",
   "id": "83f4106b",
   "metadata": {},
   "source": [
    "We are missing 'Age' from the 2024 results dataset compared to the 2023 results. This will be dealt with later during cleaning."
   ]
  },
  {
   "cell_type": "code",
   "execution_count": 7,
   "id": "01f907f4",
   "metadata": {},
   "outputs": [
    {
     "data": {
      "text/html": [
       "<div>\n",
       "<style scoped>\n",
       "    .dataframe tbody tr th:only-of-type {\n",
       "        vertical-align: middle;\n",
       "    }\n",
       "\n",
       "    .dataframe tbody tr th {\n",
       "        vertical-align: top;\n",
       "    }\n",
       "\n",
       "    .dataframe thead th {\n",
       "        text-align: right;\n",
       "    }\n",
       "</style>\n",
       "<table border=\"1\" class=\"dataframe\">\n",
       "  <thead>\n",
       "    <tr style=\"text-align: right;\">\n",
       "      <th></th>\n",
       "      <th>Race</th>\n",
       "      <th>Year</th>\n",
       "      <th>Date</th>\n",
       "      <th>Finishers</th>\n",
       "    </tr>\n",
       "  </thead>\n",
       "  <tbody>\n",
       "    <tr>\n",
       "      <th>0</th>\n",
       "      <td>NYC Marathon</td>\n",
       "      <td>2023</td>\n",
       "      <td>11/5/23</td>\n",
       "      <td>51295</td>\n",
       "    </tr>\n",
       "    <tr>\n",
       "      <th>1</th>\n",
       "      <td>Chicago Marathon</td>\n",
       "      <td>2023</td>\n",
       "      <td>10/8/23</td>\n",
       "      <td>48574</td>\n",
       "    </tr>\n",
       "    <tr>\n",
       "      <th>2</th>\n",
       "      <td>Boston Marathon</td>\n",
       "      <td>2023</td>\n",
       "      <td>4/17/23</td>\n",
       "      <td>26600</td>\n",
       "    </tr>\n",
       "    <tr>\n",
       "      <th>3</th>\n",
       "      <td>LA Marathon</td>\n",
       "      <td>2023</td>\n",
       "      <td>3/19/23</td>\n",
       "      <td>16973</td>\n",
       "    </tr>\n",
       "    <tr>\n",
       "      <th>4</th>\n",
       "      <td>Honolulu Marathon</td>\n",
       "      <td>2023</td>\n",
       "      <td>12/10/23</td>\n",
       "      <td>15044</td>\n",
       "    </tr>\n",
       "  </tbody>\n",
       "</table>\n",
       "</div>"
      ],
      "text/plain": [
       "                Race  Year      Date  Finishers\n",
       "0       NYC Marathon  2023   11/5/23      51295\n",
       "1   Chicago Marathon  2023   10/8/23      48574\n",
       "2    Boston Marathon  2023   4/17/23      26600\n",
       "3        LA Marathon  2023   3/19/23      16973\n",
       "4  Honolulu Marathon  2023  12/10/23      15044"
      ]
     },
     "execution_count": 7,
     "metadata": {},
     "output_type": "execute_result"
    }
   ],
   "source": [
    "races_2023.head()"
   ]
  },
  {
   "cell_type": "code",
   "execution_count": 8,
   "id": "37952890",
   "metadata": {},
   "outputs": [
    {
     "data": {
      "text/html": [
       "<div>\n",
       "<style scoped>\n",
       "    .dataframe tbody tr th:only-of-type {\n",
       "        vertical-align: middle;\n",
       "    }\n",
       "\n",
       "    .dataframe tbody tr th {\n",
       "        vertical-align: top;\n",
       "    }\n",
       "\n",
       "    .dataframe thead th {\n",
       "        text-align: right;\n",
       "    }\n",
       "</style>\n",
       "<table border=\"1\" class=\"dataframe\">\n",
       "  <thead>\n",
       "    <tr style=\"text-align: right;\">\n",
       "      <th></th>\n",
       "      <th>Race</th>\n",
       "      <th>Year</th>\n",
       "      <th>Date</th>\n",
       "      <th>Finishers</th>\n",
       "    </tr>\n",
       "  </thead>\n",
       "  <tbody>\n",
       "    <tr>\n",
       "      <th>0</th>\n",
       "      <td>Houston Marathon</td>\n",
       "      <td>2024</td>\n",
       "      <td>2024-01-14</td>\n",
       "      <td>7180</td>\n",
       "    </tr>\n",
       "    <tr>\n",
       "      <th>1</th>\n",
       "      <td>Atlanta Marathon</td>\n",
       "      <td>2024</td>\n",
       "      <td>2024-02-24</td>\n",
       "      <td>1582</td>\n",
       "    </tr>\n",
       "    <tr>\n",
       "      <th>2</th>\n",
       "      <td>Disney World Marathon</td>\n",
       "      <td>2024</td>\n",
       "      <td>2024-01-03</td>\n",
       "      <td>12710</td>\n",
       "    </tr>\n",
       "    <tr>\n",
       "      <th>3</th>\n",
       "      <td>Carmel Marathon</td>\n",
       "      <td>2024</td>\n",
       "      <td>2024-04-13</td>\n",
       "      <td>1451</td>\n",
       "    </tr>\n",
       "    <tr>\n",
       "      <th>4</th>\n",
       "      <td>Jack and Jill Downhill Marathon</td>\n",
       "      <td>2024</td>\n",
       "      <td>2024-07-27</td>\n",
       "      <td>701</td>\n",
       "    </tr>\n",
       "  </tbody>\n",
       "</table>\n",
       "</div>"
      ],
      "text/plain": [
       "                              Race  Year        Date  Finishers\n",
       "0                 Houston Marathon  2024  2024-01-14       7180\n",
       "1                 Atlanta Marathon  2024  2024-02-24       1582\n",
       "2            Disney World Marathon  2024  2024-01-03      12710\n",
       "3                  Carmel Marathon  2024  2024-04-13       1451\n",
       "4  Jack and Jill Downhill Marathon  2024  2024-07-27        701"
      ]
     },
     "execution_count": 8,
     "metadata": {},
     "output_type": "execute_result"
    }
   ],
   "source": [
    "races_2024.head()"
   ]
  },
  {
   "cell_type": "code",
   "execution_count": 9,
   "id": "32672713",
   "metadata": {},
   "outputs": [
    {
     "data": {
      "text/html": [
       "<div>\n",
       "<style scoped>\n",
       "    .dataframe tbody tr th:only-of-type {\n",
       "        vertical-align: middle;\n",
       "    }\n",
       "\n",
       "    .dataframe tbody tr th {\n",
       "        vertical-align: top;\n",
       "    }\n",
       "\n",
       "    .dataframe thead th {\n",
       "        text-align: right;\n",
       "    }\n",
       "</style>\n",
       "<table border=\"1\" class=\"dataframe\">\n",
       "  <thead>\n",
       "    <tr style=\"text-align: right;\">\n",
       "      <th></th>\n",
       "      <th>Year</th>\n",
       "      <th>Winner</th>\n",
       "      <th>Country</th>\n",
       "      <th>Time</th>\n",
       "      <th>Distance (Miles)</th>\n",
       "      <th>Distance (KM)</th>\n",
       "    </tr>\n",
       "  </thead>\n",
       "  <tbody>\n",
       "    <tr>\n",
       "      <th>0</th>\n",
       "      <td>1897.0</td>\n",
       "      <td>John McDermott</td>\n",
       "      <td>United States</td>\n",
       "      <td>02:55:10</td>\n",
       "      <td>24.5</td>\n",
       "      <td>39.4</td>\n",
       "    </tr>\n",
       "    <tr>\n",
       "      <th>1</th>\n",
       "      <td>1898.0</td>\n",
       "      <td>Ronald MacDonald</td>\n",
       "      <td>Canada</td>\n",
       "      <td>02:42:00</td>\n",
       "      <td>24.5</td>\n",
       "      <td>39.4</td>\n",
       "    </tr>\n",
       "    <tr>\n",
       "      <th>2</th>\n",
       "      <td>1899.0</td>\n",
       "      <td>Lawrence Brignolia</td>\n",
       "      <td>United States</td>\n",
       "      <td>02:54:38</td>\n",
       "      <td>24.5</td>\n",
       "      <td>39.4</td>\n",
       "    </tr>\n",
       "    <tr>\n",
       "      <th>3</th>\n",
       "      <td>1900.0</td>\n",
       "      <td>Jack Caffery</td>\n",
       "      <td>Canada</td>\n",
       "      <td>02:39:44</td>\n",
       "      <td>24.5</td>\n",
       "      <td>39.4</td>\n",
       "    </tr>\n",
       "    <tr>\n",
       "      <th>4</th>\n",
       "      <td>1901.0</td>\n",
       "      <td>Jack Caffery</td>\n",
       "      <td>Canada</td>\n",
       "      <td>02:29:23</td>\n",
       "      <td>24.5</td>\n",
       "      <td>39.4</td>\n",
       "    </tr>\n",
       "  </tbody>\n",
       "</table>\n",
       "</div>"
      ],
      "text/plain": [
       "     Year              Winner        Country      Time  Distance (Miles)  \\\n",
       "0  1897.0      John McDermott  United States  02:55:10              24.5   \n",
       "1  1898.0    Ronald MacDonald         Canada  02:42:00              24.5   \n",
       "2  1899.0  Lawrence Brignolia  United States  02:54:38              24.5   \n",
       "3  1900.0        Jack Caffery         Canada  02:39:44              24.5   \n",
       "4  1901.0        Jack Caffery         Canada  02:29:23              24.5   \n",
       "\n",
       "   Distance (KM)  \n",
       "0           39.4  \n",
       "1           39.4  \n",
       "2           39.4  \n",
       "3           39.4  \n",
       "4           39.4  "
      ]
     },
     "execution_count": 9,
     "metadata": {},
     "output_type": "execute_result"
    }
   ],
   "source": [
    "boston_men.head()"
   ]
  },
  {
   "cell_type": "code",
   "execution_count": 10,
   "id": "ef1b2fd0",
   "metadata": {},
   "outputs": [
    {
     "data": {
      "text/html": [
       "<div>\n",
       "<style scoped>\n",
       "    .dataframe tbody tr th:only-of-type {\n",
       "        vertical-align: middle;\n",
       "    }\n",
       "\n",
       "    .dataframe tbody tr th {\n",
       "        vertical-align: top;\n",
       "    }\n",
       "\n",
       "    .dataframe thead th {\n",
       "        text-align: right;\n",
       "    }\n",
       "</style>\n",
       "<table border=\"1\" class=\"dataframe\">\n",
       "  <thead>\n",
       "    <tr style=\"text-align: right;\">\n",
       "      <th></th>\n",
       "      <th>Year</th>\n",
       "      <th>Winner</th>\n",
       "      <th>Country</th>\n",
       "      <th>Time</th>\n",
       "      <th>Distance (Miles)</th>\n",
       "      <th>Distance (KM)</th>\n",
       "    </tr>\n",
       "  </thead>\n",
       "  <tbody>\n",
       "    <tr>\n",
       "      <th>0</th>\n",
       "      <td>1966.0</td>\n",
       "      <td>Bobbi Gibb</td>\n",
       "      <td>United States</td>\n",
       "      <td>3:21:40</td>\n",
       "      <td>26.2</td>\n",
       "      <td>42.2</td>\n",
       "    </tr>\n",
       "    <tr>\n",
       "      <th>1</th>\n",
       "      <td>1967.0</td>\n",
       "      <td>Bobbi Gibb</td>\n",
       "      <td>United States</td>\n",
       "      <td>3:27:17</td>\n",
       "      <td>26.2</td>\n",
       "      <td>42.2</td>\n",
       "    </tr>\n",
       "    <tr>\n",
       "      <th>2</th>\n",
       "      <td>1968.0</td>\n",
       "      <td>Bobbi Gibb</td>\n",
       "      <td>United States</td>\n",
       "      <td>3:30:00</td>\n",
       "      <td>26.2</td>\n",
       "      <td>42.2</td>\n",
       "    </tr>\n",
       "    <tr>\n",
       "      <th>3</th>\n",
       "      <td>1969.0</td>\n",
       "      <td>Sara Mae Berman</td>\n",
       "      <td>United States</td>\n",
       "      <td>3:22:46</td>\n",
       "      <td>26.2</td>\n",
       "      <td>42.2</td>\n",
       "    </tr>\n",
       "    <tr>\n",
       "      <th>4</th>\n",
       "      <td>1970.0</td>\n",
       "      <td>Sara Mae Berman</td>\n",
       "      <td>United States</td>\n",
       "      <td>3:05:07</td>\n",
       "      <td>26.2</td>\n",
       "      <td>42.2</td>\n",
       "    </tr>\n",
       "  </tbody>\n",
       "</table>\n",
       "</div>"
      ],
      "text/plain": [
       "     Year           Winner        Country     Time  Distance (Miles)  \\\n",
       "0  1966.0       Bobbi Gibb  United States  3:21:40              26.2   \n",
       "1  1967.0       Bobbi Gibb  United States  3:27:17              26.2   \n",
       "2  1968.0       Bobbi Gibb  United States  3:30:00              26.2   \n",
       "3  1969.0  Sara Mae Berman  United States  3:22:46              26.2   \n",
       "4  1970.0  Sara Mae Berman  United States  3:05:07              26.2   \n",
       "\n",
       "   Distance (KM)  \n",
       "0           42.2  \n",
       "1           42.2  \n",
       "2           42.2  \n",
       "3           42.2  \n",
       "4           42.2  "
      ]
     },
     "execution_count": 10,
     "metadata": {},
     "output_type": "execute_result"
    }
   ],
   "source": [
    "boston_women.head()"
   ]
  },
  {
   "cell_type": "code",
   "execution_count": 11,
   "id": "e3fd2466",
   "metadata": {},
   "outputs": [
    {
     "data": {
      "text/html": [
       "<div>\n",
       "<style scoped>\n",
       "    .dataframe tbody tr th:only-of-type {\n",
       "        vertical-align: middle;\n",
       "    }\n",
       "\n",
       "    .dataframe tbody tr th {\n",
       "        vertical-align: top;\n",
       "    }\n",
       "\n",
       "    .dataframe thead th {\n",
       "        text-align: right;\n",
       "    }\n",
       "</style>\n",
       "<table border=\"1\" class=\"dataframe\">\n",
       "  <thead>\n",
       "    <tr style=\"text-align: right;\">\n",
       "      <th></th>\n",
       "      <th>Category</th>\n",
       "      <th>Subcategory</th>\n",
       "      <th>Value</th>\n",
       "      <th>Type</th>\n",
       "    </tr>\n",
       "  </thead>\n",
       "  <tbody>\n",
       "    <tr>\n",
       "      <th>0</th>\n",
       "      <td>Gender</td>\n",
       "      <td>Female</td>\n",
       "      <td>55</td>\n",
       "      <td>%</td>\n",
       "    </tr>\n",
       "    <tr>\n",
       "      <th>1</th>\n",
       "      <td>Gender</td>\n",
       "      <td>Male</td>\n",
       "      <td>43</td>\n",
       "      <td>%</td>\n",
       "    </tr>\n",
       "    <tr>\n",
       "      <th>2</th>\n",
       "      <td>Gender</td>\n",
       "      <td>Non-binary</td>\n",
       "      <td>2</td>\n",
       "      <td>%</td>\n",
       "    </tr>\n",
       "    <tr>\n",
       "      <th>3</th>\n",
       "      <td>Age</td>\n",
       "      <td>Under 25</td>\n",
       "      <td>7</td>\n",
       "      <td>%</td>\n",
       "    </tr>\n",
       "    <tr>\n",
       "      <th>4</th>\n",
       "      <td>Age</td>\n",
       "      <td>25-34</td>\n",
       "      <td>24</td>\n",
       "      <td>%</td>\n",
       "    </tr>\n",
       "  </tbody>\n",
       "</table>\n",
       "</div>"
      ],
      "text/plain": [
       "  Category Subcategory  Value Type\n",
       "0   Gender      Female     55    %\n",
       "1   Gender        Male     43    %\n",
       "2   Gender  Non-binary      2    %\n",
       "3      Age    Under 25      7    %\n",
       "4      Age       25-34     24    %"
      ]
     },
     "execution_count": 11,
     "metadata": {},
     "output_type": "execute_result"
    }
   ],
   "source": [
    "survey_summary.head()"
   ]
  },
  {
   "cell_type": "code",
   "execution_count": 12,
   "id": "0fd4e7ac",
   "metadata": {},
   "outputs": [
    {
     "data": {
      "text/plain": [
       "Name           0\n",
       "Race           0\n",
       "Year           0\n",
       "Gender         0\n",
       "Age            0\n",
       "Finish         0\n",
       "Age Bracket    0\n",
       "dtype: int64"
      ]
     },
     "execution_count": 12,
     "metadata": {},
     "output_type": "execute_result"
    }
   ],
   "source": [
    "results_2023.isnull().sum()"
   ]
  },
  {
   "cell_type": "code",
   "execution_count": 13,
   "id": "01f987b3",
   "metadata": {},
   "outputs": [
    {
     "data": {
      "text/plain": [
       "Name         0\n",
       "Race         0\n",
       "Year         0\n",
       "Gender       0\n",
       "Finish       0\n",
       "Age Group    0\n",
       "dtype: int64"
      ]
     },
     "execution_count": 13,
     "metadata": {},
     "output_type": "execute_result"
    }
   ],
   "source": [
    "results_2024.isnull().sum()"
   ]
  },
  {
   "cell_type": "code",
   "execution_count": 16,
   "id": "16d81c2b",
   "metadata": {},
   "outputs": [
    {
     "data": {
      "text/plain": [
       "race         0\n",
       "year         0\n",
       "date         0\n",
       "finishers    0\n",
       "dtype: int64"
      ]
     },
     "execution_count": 16,
     "metadata": {},
     "output_type": "execute_result"
    }
   ],
   "source": [
    "races_2023.isnull().sum()"
   ]
  },
  {
   "cell_type": "code",
   "execution_count": 17,
   "id": "81b0744c",
   "metadata": {},
   "outputs": [
    {
     "data": {
      "text/plain": [
       "race         0\n",
       "year         0\n",
       "date         0\n",
       "finishers    0\n",
       "dtype: int64"
      ]
     },
     "execution_count": 17,
     "metadata": {},
     "output_type": "execute_result"
    }
   ],
   "source": [
    "races_2024.isnull().sum()"
   ]
  },
  {
   "cell_type": "code",
   "execution_count": 18,
   "id": "f000c6c3",
   "metadata": {},
   "outputs": [
    {
     "data": {
      "text/plain": [
       "year                2\n",
       "winner              2\n",
       "country             2\n",
       "time                2\n",
       "distance_(miles)    2\n",
       "distance_(km)       2\n",
       "dtype: int64"
      ]
     },
     "execution_count": 18,
     "metadata": {},
     "output_type": "execute_result"
    }
   ],
   "source": [
    "boston_men.isnull().sum()"
   ]
  },
  {
   "cell_type": "code",
   "execution_count": 19,
   "id": "c36c1884",
   "metadata": {},
   "outputs": [
    {
     "data": {
      "text/plain": [
       "year                1\n",
       "winner              1\n",
       "country             1\n",
       "time                1\n",
       "distance_(miles)    0\n",
       "distance_(km)       0\n",
       "dtype: int64"
      ]
     },
     "execution_count": 19,
     "metadata": {},
     "output_type": "execute_result"
    }
   ],
   "source": [
    "boston_women.isnull().sum()"
   ]
  },
  {
   "cell_type": "markdown",
   "id": "84288d7f",
   "metadata": {},
   "source": [
    "There is a small number of missing values in the Boston Marathon Winners data. We will drop these rows safely in the cleaning phase since there are very few."
   ]
  },
  {
   "cell_type": "code",
   "execution_count": 20,
   "id": "96f5c075",
   "metadata": {},
   "outputs": [
    {
     "data": {
      "text/plain": [
       "category       0\n",
       "subcategory    0\n",
       "value          0\n",
       "type           0\n",
       "dtype: int64"
      ]
     },
     "execution_count": 20,
     "metadata": {},
     "output_type": "execute_result"
    }
   ],
   "source": [
    "survey_summary.isnull().sum()"
   ]
  },
  {
   "cell_type": "code",
   "execution_count": 14,
   "id": "d94607bb",
   "metadata": {},
   "outputs": [],
   "source": [
    "#All columns lowercase and replace sapaces with underscore\n",
    "\n",
    "def clean_columns(df):\n",
    "    df.columns = df.columns.str.lower().str.replace(' ', '_')\n",
    "    return df\n",
    "\n",
    "results_2023 = clean_columns(results_2023)\n",
    "results_2024 = clean_columns(results_2024)\n",
    "races_2023 = clean_columns(races_2023)\n",
    "races_2024 = clean_columns(races_2024)\n",
    "boston_men = clean_columns(boston_men)\n",
    "boston_women = clean_columns(boston_women)\n",
    "survey_summary = clean_columns(survey_summary)"
   ]
  },
  {
   "cell_type": "code",
   "execution_count": 15,
   "id": "7d5aae67",
   "metadata": {},
   "outputs": [],
   "source": [
    "#NaN for missing `Age` in 2024 results dataset\n",
    "\n",
    "results_2024['age'] = np.nan"
   ]
  },
  {
   "cell_type": "code",
   "execution_count": 21,
   "id": "1714e3bc",
   "metadata": {},
   "outputs": [],
   "source": [
    "#Drop missing rows in Boston Marathon Datasets\n",
    "\n",
    "boston_men.dropna(subset = ['year', 'winner', 'country', 'time'], inplace = True)\n",
    "boston_women.dropna(subset = ['year', 'winner', 'country', 'time'], inplace = True)"
   ]
  },
  {
   "cell_type": "code",
   "execution_count": 23,
   "id": "a5464d8d",
   "metadata": {},
   "outputs": [],
   "source": [
    "#Standardize Columns for Consistency\n",
    "\n",
    "boston_men = clean_columns(boston_men)\n",
    "boston_women = clean_columns(boston_women)"
   ]
  },
  {
   "cell_type": "code",
   "execution_count": null,
   "id": "42c40887",
   "metadata": {},
   "outputs": [],
   "source": []
  }
 ],
 "metadata": {
  "kernelspec": {
   "display_name": "Python 3",
   "language": "python",
   "name": "python3"
  },
  "language_info": {
   "codemirror_mode": {
    "name": "ipython",
    "version": 3
   },
   "file_extension": ".py",
   "mimetype": "text/x-python",
   "name": "python",
   "nbconvert_exporter": "python",
   "pygments_lexer": "ipython3",
   "version": "3.13.7"
  }
 },
 "nbformat": 4,
 "nbformat_minor": 5
}
