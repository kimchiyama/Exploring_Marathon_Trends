{
 "cells": [
  {
   "cell_type": "code",
   "execution_count": 1,
   "id": "d115eca6-3b51-4667-92f9-f1a8583da8d6",
   "metadata": {},
   "outputs": [],
   "source": [
    "import pandas as pd\n",
    "import numpy as np\n",
    "import matplotlib.pyplot as plt\n",
    "import seaborn as sns\n",
    "\n",
    "%matplotlib inline"
   ]
  },
  {
   "cell_type": "code",
   "execution_count": 2,
   "id": "543ec81e-efdc-4431-b78c-e3b0ada9d319",
   "metadata": {},
   "outputs": [],
   "source": [
    "#Loading the required datasets\n",
    "\n",
    "results_2023 = pd.read_csv('../data/2023_results.csv')\n",
    "races_2023 = pd.read_csv('../data/2023_races.csv')\n",
    "results_2024 = pd.read_csv('../data/2024_results.csv')\n",
    "races_2024 = pd.read_csv('../data/2024_races.csv')\n",
    "boston_men = pd.read_csv('../data/boston_men.csv')\n",
    "boston_women = pd.read_csv('../data/boston_women.csv')\n",
    "survey_summary = pd.read_csv('../data/survey_summary.csv')"
   ]
  },
  {
   "cell_type": "code",
   "execution_count": 3,
   "id": "5d023b09",
   "metadata": {},
   "outputs": [
    {
     "data": {
      "text/html": [
       "<div>\n",
       "<style scoped>\n",
       "    .dataframe tbody tr th:only-of-type {\n",
       "        vertical-align: middle;\n",
       "    }\n",
       "\n",
       "    .dataframe tbody tr th {\n",
       "        vertical-align: top;\n",
       "    }\n",
       "\n",
       "    .dataframe thead th {\n",
       "        text-align: right;\n",
       "    }\n",
       "</style>\n",
       "<table border=\"1\" class=\"dataframe\">\n",
       "  <thead>\n",
       "    <tr style=\"text-align: right;\">\n",
       "      <th></th>\n",
       "      <th>Name</th>\n",
       "      <th>Race</th>\n",
       "      <th>Year</th>\n",
       "      <th>Gender</th>\n",
       "      <th>Age</th>\n",
       "      <th>Finish</th>\n",
       "      <th>Age Bracket</th>\n",
       "    </tr>\n",
       "  </thead>\n",
       "  <tbody>\n",
       "    <tr>\n",
       "      <th>0</th>\n",
       "      <td>Arunas Jurkus</td>\n",
       "      <td>Salt Lake City Marathon</td>\n",
       "      <td>2023</td>\n",
       "      <td>M</td>\n",
       "      <td>55</td>\n",
       "      <td>12907</td>\n",
       "      <td>55-59</td>\n",
       "    </tr>\n",
       "    <tr>\n",
       "      <th>1</th>\n",
       "      <td>Seth Reed</td>\n",
       "      <td>Salt Lake City Marathon</td>\n",
       "      <td>2023</td>\n",
       "      <td>M</td>\n",
       "      <td>24</td>\n",
       "      <td>12921</td>\n",
       "      <td>Under 35</td>\n",
       "    </tr>\n",
       "    <tr>\n",
       "      <th>2</th>\n",
       "      <td>Mufaro Chivasa</td>\n",
       "      <td>Salt Lake City Marathon</td>\n",
       "      <td>2023</td>\n",
       "      <td>M</td>\n",
       "      <td>54</td>\n",
       "      <td>12948</td>\n",
       "      <td>50-54</td>\n",
       "    </tr>\n",
       "    <tr>\n",
       "      <th>3</th>\n",
       "      <td>Adam Cheney</td>\n",
       "      <td>Salt Lake City Marathon</td>\n",
       "      <td>2023</td>\n",
       "      <td>M</td>\n",
       "      <td>22</td>\n",
       "      <td>12954</td>\n",
       "      <td>Under 35</td>\n",
       "    </tr>\n",
       "    <tr>\n",
       "      <th>4</th>\n",
       "      <td>Michael Pyles</td>\n",
       "      <td>Salt Lake City Marathon</td>\n",
       "      <td>2023</td>\n",
       "      <td>M</td>\n",
       "      <td>33</td>\n",
       "      <td>12964</td>\n",
       "      <td>Under 35</td>\n",
       "    </tr>\n",
       "  </tbody>\n",
       "</table>\n",
       "</div>"
      ],
      "text/plain": [
       "             Name                     Race  Year Gender  Age  Finish  \\\n",
       "0   Arunas Jurkus  Salt Lake City Marathon  2023      M   55   12907   \n",
       "1       Seth Reed  Salt Lake City Marathon  2023      M   24   12921   \n",
       "2  Mufaro Chivasa  Salt Lake City Marathon  2023      M   54   12948   \n",
       "3     Adam Cheney  Salt Lake City Marathon  2023      M   22   12954   \n",
       "4   Michael Pyles  Salt Lake City Marathon  2023      M   33   12964   \n",
       "\n",
       "  Age Bracket  \n",
       "0       55-59  \n",
       "1    Under 35  \n",
       "2       50-54  \n",
       "3    Under 35  \n",
       "4    Under 35  "
      ]
     },
     "execution_count": 3,
     "metadata": {},
     "output_type": "execute_result"
    }
   ],
   "source": [
    "results_2023.head()\n"
   ]
  },
  {
   "cell_type": "code",
   "execution_count": 4,
   "id": "7a213ad2",
   "metadata": {},
   "outputs": [
    {
     "data": {
      "text/html": [
       "<div>\n",
       "<style scoped>\n",
       "    .dataframe tbody tr th:only-of-type {\n",
       "        vertical-align: middle;\n",
       "    }\n",
       "\n",
       "    .dataframe tbody tr th {\n",
       "        vertical-align: top;\n",
       "    }\n",
       "\n",
       "    .dataframe thead th {\n",
       "        text-align: right;\n",
       "    }\n",
       "</style>\n",
       "<table border=\"1\" class=\"dataframe\">\n",
       "  <thead>\n",
       "    <tr style=\"text-align: right;\">\n",
       "      <th></th>\n",
       "      <th>Name</th>\n",
       "      <th>Race</th>\n",
       "      <th>Year</th>\n",
       "      <th>Gender</th>\n",
       "      <th>Finish</th>\n",
       "      <th>Age Group</th>\n",
       "    </tr>\n",
       "  </thead>\n",
       "  <tbody>\n",
       "    <tr>\n",
       "      <th>0</th>\n",
       "      <td>Zouhair Talbi</td>\n",
       "      <td>Houston Marathon</td>\n",
       "      <td>2024</td>\n",
       "      <td>Men</td>\n",
       "      <td>7599</td>\n",
       "      <td>25-29</td>\n",
       "    </tr>\n",
       "    <tr>\n",
       "      <th>1</th>\n",
       "      <td>Tsedat Ayana</td>\n",
       "      <td>Houston Marathon</td>\n",
       "      <td>2024</td>\n",
       "      <td>Men</td>\n",
       "      <td>7620</td>\n",
       "      <td>25-29</td>\n",
       "    </tr>\n",
       "    <tr>\n",
       "      <th>2</th>\n",
       "      <td>Hendrik Pfeiffer</td>\n",
       "      <td>Houston Marathon</td>\n",
       "      <td>2024</td>\n",
       "      <td>Men</td>\n",
       "      <td>7634</td>\n",
       "      <td>30-34</td>\n",
       "    </tr>\n",
       "    <tr>\n",
       "      <th>3</th>\n",
       "      <td>Pat Tiernan</td>\n",
       "      <td>Houston Marathon</td>\n",
       "      <td>2024</td>\n",
       "      <td>Men</td>\n",
       "      <td>7665</td>\n",
       "      <td>25-29</td>\n",
       "    </tr>\n",
       "    <tr>\n",
       "      <th>4</th>\n",
       "      <td>Hugo Edgardo Catrileo Tapia</td>\n",
       "      <td>Houston Marathon</td>\n",
       "      <td>2024</td>\n",
       "      <td>Men</td>\n",
       "      <td>7724</td>\n",
       "      <td>25-29</td>\n",
       "    </tr>\n",
       "  </tbody>\n",
       "</table>\n",
       "</div>"
      ],
      "text/plain": [
       "                          Name              Race  Year Gender  Finish  \\\n",
       "0                Zouhair Talbi  Houston Marathon  2024    Men    7599   \n",
       "1                 Tsedat Ayana  Houston Marathon  2024    Men    7620   \n",
       "2             Hendrik Pfeiffer  Houston Marathon  2024    Men    7634   \n",
       "3                  Pat Tiernan  Houston Marathon  2024    Men    7665   \n",
       "4  Hugo Edgardo Catrileo Tapia  Houston Marathon  2024    Men    7724   \n",
       "\n",
       "  Age Group  \n",
       "0     25-29  \n",
       "1     25-29  \n",
       "2     30-34  \n",
       "3     25-29  \n",
       "4     25-29  "
      ]
     },
     "execution_count": 4,
     "metadata": {},
     "output_type": "execute_result"
    }
   ],
   "source": [
    "results_2024.head()"
   ]
  },
  {
   "cell_type": "markdown",
   "id": "83f4106b",
   "metadata": {},
   "source": [
    "We are missing 'Age' from the 2024 results dataset compared to the 2023 results. This will be dealt with later during cleaning."
   ]
  },
  {
   "cell_type": "code",
   "execution_count": 5,
   "id": "01f907f4",
   "metadata": {},
   "outputs": [
    {
     "data": {
      "text/html": [
       "<div>\n",
       "<style scoped>\n",
       "    .dataframe tbody tr th:only-of-type {\n",
       "        vertical-align: middle;\n",
       "    }\n",
       "\n",
       "    .dataframe tbody tr th {\n",
       "        vertical-align: top;\n",
       "    }\n",
       "\n",
       "    .dataframe thead th {\n",
       "        text-align: right;\n",
       "    }\n",
       "</style>\n",
       "<table border=\"1\" class=\"dataframe\">\n",
       "  <thead>\n",
       "    <tr style=\"text-align: right;\">\n",
       "      <th></th>\n",
       "      <th>Race</th>\n",
       "      <th>Year</th>\n",
       "      <th>Date</th>\n",
       "      <th>Finishers</th>\n",
       "    </tr>\n",
       "  </thead>\n",
       "  <tbody>\n",
       "    <tr>\n",
       "      <th>0</th>\n",
       "      <td>NYC Marathon</td>\n",
       "      <td>2023</td>\n",
       "      <td>11/5/23</td>\n",
       "      <td>51295</td>\n",
       "    </tr>\n",
       "    <tr>\n",
       "      <th>1</th>\n",
       "      <td>Chicago Marathon</td>\n",
       "      <td>2023</td>\n",
       "      <td>10/8/23</td>\n",
       "      <td>48574</td>\n",
       "    </tr>\n",
       "    <tr>\n",
       "      <th>2</th>\n",
       "      <td>Boston Marathon</td>\n",
       "      <td>2023</td>\n",
       "      <td>4/17/23</td>\n",
       "      <td>26600</td>\n",
       "    </tr>\n",
       "    <tr>\n",
       "      <th>3</th>\n",
       "      <td>LA Marathon</td>\n",
       "      <td>2023</td>\n",
       "      <td>3/19/23</td>\n",
       "      <td>16973</td>\n",
       "    </tr>\n",
       "    <tr>\n",
       "      <th>4</th>\n",
       "      <td>Honolulu Marathon</td>\n",
       "      <td>2023</td>\n",
       "      <td>12/10/23</td>\n",
       "      <td>15044</td>\n",
       "    </tr>\n",
       "  </tbody>\n",
       "</table>\n",
       "</div>"
      ],
      "text/plain": [
       "                Race  Year      Date  Finishers\n",
       "0       NYC Marathon  2023   11/5/23      51295\n",
       "1   Chicago Marathon  2023   10/8/23      48574\n",
       "2    Boston Marathon  2023   4/17/23      26600\n",
       "3        LA Marathon  2023   3/19/23      16973\n",
       "4  Honolulu Marathon  2023  12/10/23      15044"
      ]
     },
     "execution_count": 5,
     "metadata": {},
     "output_type": "execute_result"
    }
   ],
   "source": [
    "races_2023.head()"
   ]
  },
  {
   "cell_type": "code",
   "execution_count": 6,
   "id": "37952890",
   "metadata": {},
   "outputs": [
    {
     "data": {
      "text/html": [
       "<div>\n",
       "<style scoped>\n",
       "    .dataframe tbody tr th:only-of-type {\n",
       "        vertical-align: middle;\n",
       "    }\n",
       "\n",
       "    .dataframe tbody tr th {\n",
       "        vertical-align: top;\n",
       "    }\n",
       "\n",
       "    .dataframe thead th {\n",
       "        text-align: right;\n",
       "    }\n",
       "</style>\n",
       "<table border=\"1\" class=\"dataframe\">\n",
       "  <thead>\n",
       "    <tr style=\"text-align: right;\">\n",
       "      <th></th>\n",
       "      <th>Race</th>\n",
       "      <th>Year</th>\n",
       "      <th>Date</th>\n",
       "      <th>Finishers</th>\n",
       "    </tr>\n",
       "  </thead>\n",
       "  <tbody>\n",
       "    <tr>\n",
       "      <th>0</th>\n",
       "      <td>Houston Marathon</td>\n",
       "      <td>2024</td>\n",
       "      <td>2024-01-14</td>\n",
       "      <td>7180</td>\n",
       "    </tr>\n",
       "    <tr>\n",
       "      <th>1</th>\n",
       "      <td>Atlanta Marathon</td>\n",
       "      <td>2024</td>\n",
       "      <td>2024-02-24</td>\n",
       "      <td>1582</td>\n",
       "    </tr>\n",
       "    <tr>\n",
       "      <th>2</th>\n",
       "      <td>Disney World Marathon</td>\n",
       "      <td>2024</td>\n",
       "      <td>2024-01-03</td>\n",
       "      <td>12710</td>\n",
       "    </tr>\n",
       "    <tr>\n",
       "      <th>3</th>\n",
       "      <td>Carmel Marathon</td>\n",
       "      <td>2024</td>\n",
       "      <td>2024-04-13</td>\n",
       "      <td>1451</td>\n",
       "    </tr>\n",
       "    <tr>\n",
       "      <th>4</th>\n",
       "      <td>Jack and Jill Downhill Marathon</td>\n",
       "      <td>2024</td>\n",
       "      <td>2024-07-27</td>\n",
       "      <td>701</td>\n",
       "    </tr>\n",
       "  </tbody>\n",
       "</table>\n",
       "</div>"
      ],
      "text/plain": [
       "                              Race  Year        Date  Finishers\n",
       "0                 Houston Marathon  2024  2024-01-14       7180\n",
       "1                 Atlanta Marathon  2024  2024-02-24       1582\n",
       "2            Disney World Marathon  2024  2024-01-03      12710\n",
       "3                  Carmel Marathon  2024  2024-04-13       1451\n",
       "4  Jack and Jill Downhill Marathon  2024  2024-07-27        701"
      ]
     },
     "execution_count": 6,
     "metadata": {},
     "output_type": "execute_result"
    }
   ],
   "source": [
    "races_2024.head()"
   ]
  },
  {
   "cell_type": "code",
   "execution_count": 7,
   "id": "32672713",
   "metadata": {},
   "outputs": [
    {
     "data": {
      "text/html": [
       "<div>\n",
       "<style scoped>\n",
       "    .dataframe tbody tr th:only-of-type {\n",
       "        vertical-align: middle;\n",
       "    }\n",
       "\n",
       "    .dataframe tbody tr th {\n",
       "        vertical-align: top;\n",
       "    }\n",
       "\n",
       "    .dataframe thead th {\n",
       "        text-align: right;\n",
       "    }\n",
       "</style>\n",
       "<table border=\"1\" class=\"dataframe\">\n",
       "  <thead>\n",
       "    <tr style=\"text-align: right;\">\n",
       "      <th></th>\n",
       "      <th>Year</th>\n",
       "      <th>Winner</th>\n",
       "      <th>Country</th>\n",
       "      <th>Time</th>\n",
       "      <th>Distance (Miles)</th>\n",
       "      <th>Distance (KM)</th>\n",
       "    </tr>\n",
       "  </thead>\n",
       "  <tbody>\n",
       "    <tr>\n",
       "      <th>0</th>\n",
       "      <td>1897.0</td>\n",
       "      <td>John McDermott</td>\n",
       "      <td>United States</td>\n",
       "      <td>02:55:10</td>\n",
       "      <td>24.5</td>\n",
       "      <td>39.4</td>\n",
       "    </tr>\n",
       "    <tr>\n",
       "      <th>1</th>\n",
       "      <td>1898.0</td>\n",
       "      <td>Ronald MacDonald</td>\n",
       "      <td>Canada</td>\n",
       "      <td>02:42:00</td>\n",
       "      <td>24.5</td>\n",
       "      <td>39.4</td>\n",
       "    </tr>\n",
       "    <tr>\n",
       "      <th>2</th>\n",
       "      <td>1899.0</td>\n",
       "      <td>Lawrence Brignolia</td>\n",
       "      <td>United States</td>\n",
       "      <td>02:54:38</td>\n",
       "      <td>24.5</td>\n",
       "      <td>39.4</td>\n",
       "    </tr>\n",
       "    <tr>\n",
       "      <th>3</th>\n",
       "      <td>1900.0</td>\n",
       "      <td>Jack Caffery</td>\n",
       "      <td>Canada</td>\n",
       "      <td>02:39:44</td>\n",
       "      <td>24.5</td>\n",
       "      <td>39.4</td>\n",
       "    </tr>\n",
       "    <tr>\n",
       "      <th>4</th>\n",
       "      <td>1901.0</td>\n",
       "      <td>Jack Caffery</td>\n",
       "      <td>Canada</td>\n",
       "      <td>02:29:23</td>\n",
       "      <td>24.5</td>\n",
       "      <td>39.4</td>\n",
       "    </tr>\n",
       "  </tbody>\n",
       "</table>\n",
       "</div>"
      ],
      "text/plain": [
       "     Year              Winner        Country      Time  Distance (Miles)  \\\n",
       "0  1897.0      John McDermott  United States  02:55:10              24.5   \n",
       "1  1898.0    Ronald MacDonald         Canada  02:42:00              24.5   \n",
       "2  1899.0  Lawrence Brignolia  United States  02:54:38              24.5   \n",
       "3  1900.0        Jack Caffery         Canada  02:39:44              24.5   \n",
       "4  1901.0        Jack Caffery         Canada  02:29:23              24.5   \n",
       "\n",
       "   Distance (KM)  \n",
       "0           39.4  \n",
       "1           39.4  \n",
       "2           39.4  \n",
       "3           39.4  \n",
       "4           39.4  "
      ]
     },
     "execution_count": 7,
     "metadata": {},
     "output_type": "execute_result"
    }
   ],
   "source": [
    "boston_men.head()"
   ]
  },
  {
   "cell_type": "code",
   "execution_count": 8,
   "id": "ef1b2fd0",
   "metadata": {},
   "outputs": [
    {
     "data": {
      "text/html": [
       "<div>\n",
       "<style scoped>\n",
       "    .dataframe tbody tr th:only-of-type {\n",
       "        vertical-align: middle;\n",
       "    }\n",
       "\n",
       "    .dataframe tbody tr th {\n",
       "        vertical-align: top;\n",
       "    }\n",
       "\n",
       "    .dataframe thead th {\n",
       "        text-align: right;\n",
       "    }\n",
       "</style>\n",
       "<table border=\"1\" class=\"dataframe\">\n",
       "  <thead>\n",
       "    <tr style=\"text-align: right;\">\n",
       "      <th></th>\n",
       "      <th>Year</th>\n",
       "      <th>Winner</th>\n",
       "      <th>Country</th>\n",
       "      <th>Time</th>\n",
       "      <th>Distance (Miles)</th>\n",
       "      <th>Distance (KM)</th>\n",
       "    </tr>\n",
       "  </thead>\n",
       "  <tbody>\n",
       "    <tr>\n",
       "      <th>0</th>\n",
       "      <td>1966.0</td>\n",
       "      <td>Bobbi Gibb</td>\n",
       "      <td>United States</td>\n",
       "      <td>3:21:40</td>\n",
       "      <td>26.2</td>\n",
       "      <td>42.2</td>\n",
       "    </tr>\n",
       "    <tr>\n",
       "      <th>1</th>\n",
       "      <td>1967.0</td>\n",
       "      <td>Bobbi Gibb</td>\n",
       "      <td>United States</td>\n",
       "      <td>3:27:17</td>\n",
       "      <td>26.2</td>\n",
       "      <td>42.2</td>\n",
       "    </tr>\n",
       "    <tr>\n",
       "      <th>2</th>\n",
       "      <td>1968.0</td>\n",
       "      <td>Bobbi Gibb</td>\n",
       "      <td>United States</td>\n",
       "      <td>3:30:00</td>\n",
       "      <td>26.2</td>\n",
       "      <td>42.2</td>\n",
       "    </tr>\n",
       "    <tr>\n",
       "      <th>3</th>\n",
       "      <td>1969.0</td>\n",
       "      <td>Sara Mae Berman</td>\n",
       "      <td>United States</td>\n",
       "      <td>3:22:46</td>\n",
       "      <td>26.2</td>\n",
       "      <td>42.2</td>\n",
       "    </tr>\n",
       "    <tr>\n",
       "      <th>4</th>\n",
       "      <td>1970.0</td>\n",
       "      <td>Sara Mae Berman</td>\n",
       "      <td>United States</td>\n",
       "      <td>3:05:07</td>\n",
       "      <td>26.2</td>\n",
       "      <td>42.2</td>\n",
       "    </tr>\n",
       "  </tbody>\n",
       "</table>\n",
       "</div>"
      ],
      "text/plain": [
       "     Year           Winner        Country     Time  Distance (Miles)  \\\n",
       "0  1966.0       Bobbi Gibb  United States  3:21:40              26.2   \n",
       "1  1967.0       Bobbi Gibb  United States  3:27:17              26.2   \n",
       "2  1968.0       Bobbi Gibb  United States  3:30:00              26.2   \n",
       "3  1969.0  Sara Mae Berman  United States  3:22:46              26.2   \n",
       "4  1970.0  Sara Mae Berman  United States  3:05:07              26.2   \n",
       "\n",
       "   Distance (KM)  \n",
       "0           42.2  \n",
       "1           42.2  \n",
       "2           42.2  \n",
       "3           42.2  \n",
       "4           42.2  "
      ]
     },
     "execution_count": 8,
     "metadata": {},
     "output_type": "execute_result"
    }
   ],
   "source": [
    "boston_women.head()"
   ]
  },
  {
   "cell_type": "code",
   "execution_count": 9,
   "id": "e3fd2466",
   "metadata": {},
   "outputs": [
    {
     "data": {
      "text/html": [
       "<div>\n",
       "<style scoped>\n",
       "    .dataframe tbody tr th:only-of-type {\n",
       "        vertical-align: middle;\n",
       "    }\n",
       "\n",
       "    .dataframe tbody tr th {\n",
       "        vertical-align: top;\n",
       "    }\n",
       "\n",
       "    .dataframe thead th {\n",
       "        text-align: right;\n",
       "    }\n",
       "</style>\n",
       "<table border=\"1\" class=\"dataframe\">\n",
       "  <thead>\n",
       "    <tr style=\"text-align: right;\">\n",
       "      <th></th>\n",
       "      <th>Category</th>\n",
       "      <th>Subcategory</th>\n",
       "      <th>Value</th>\n",
       "      <th>Type</th>\n",
       "    </tr>\n",
       "  </thead>\n",
       "  <tbody>\n",
       "    <tr>\n",
       "      <th>0</th>\n",
       "      <td>Gender</td>\n",
       "      <td>Female</td>\n",
       "      <td>55</td>\n",
       "      <td>%</td>\n",
       "    </tr>\n",
       "    <tr>\n",
       "      <th>1</th>\n",
       "      <td>Gender</td>\n",
       "      <td>Male</td>\n",
       "      <td>43</td>\n",
       "      <td>%</td>\n",
       "    </tr>\n",
       "    <tr>\n",
       "      <th>2</th>\n",
       "      <td>Gender</td>\n",
       "      <td>Non-binary</td>\n",
       "      <td>2</td>\n",
       "      <td>%</td>\n",
       "    </tr>\n",
       "    <tr>\n",
       "      <th>3</th>\n",
       "      <td>Age</td>\n",
       "      <td>Under 25</td>\n",
       "      <td>7</td>\n",
       "      <td>%</td>\n",
       "    </tr>\n",
       "    <tr>\n",
       "      <th>4</th>\n",
       "      <td>Age</td>\n",
       "      <td>25-34</td>\n",
       "      <td>24</td>\n",
       "      <td>%</td>\n",
       "    </tr>\n",
       "  </tbody>\n",
       "</table>\n",
       "</div>"
      ],
      "text/plain": [
       "  Category Subcategory  Value Type\n",
       "0   Gender      Female     55    %\n",
       "1   Gender        Male     43    %\n",
       "2   Gender  Non-binary      2    %\n",
       "3      Age    Under 25      7    %\n",
       "4      Age       25-34     24    %"
      ]
     },
     "execution_count": 9,
     "metadata": {},
     "output_type": "execute_result"
    }
   ],
   "source": [
    "survey_summary.head()"
   ]
  },
  {
   "cell_type": "code",
   "execution_count": 10,
   "id": "0fd4e7ac",
   "metadata": {},
   "outputs": [
    {
     "data": {
      "text/plain": [
       "Name           0\n",
       "Race           0\n",
       "Year           0\n",
       "Gender         0\n",
       "Age            0\n",
       "Finish         0\n",
       "Age Bracket    0\n",
       "dtype: int64"
      ]
     },
     "execution_count": 10,
     "metadata": {},
     "output_type": "execute_result"
    }
   ],
   "source": [
    "results_2023.isnull().sum()"
   ]
  },
  {
   "cell_type": "code",
   "execution_count": 11,
   "id": "01f987b3",
   "metadata": {},
   "outputs": [
    {
     "data": {
      "text/plain": [
       "Name         0\n",
       "Race         0\n",
       "Year         0\n",
       "Gender       0\n",
       "Finish       0\n",
       "Age Group    0\n",
       "dtype: int64"
      ]
     },
     "execution_count": 11,
     "metadata": {},
     "output_type": "execute_result"
    }
   ],
   "source": [
    "results_2024.isnull().sum()"
   ]
  },
  {
   "cell_type": "code",
   "execution_count": 12,
   "id": "16d81c2b",
   "metadata": {},
   "outputs": [
    {
     "data": {
      "text/plain": [
       "Race         0\n",
       "Year         0\n",
       "Date         0\n",
       "Finishers    0\n",
       "dtype: int64"
      ]
     },
     "execution_count": 12,
     "metadata": {},
     "output_type": "execute_result"
    }
   ],
   "source": [
    "races_2023.isnull().sum()"
   ]
  },
  {
   "cell_type": "code",
   "execution_count": 13,
   "id": "81b0744c",
   "metadata": {},
   "outputs": [
    {
     "data": {
      "text/plain": [
       "Race         0\n",
       "Year         0\n",
       "Date         0\n",
       "Finishers    0\n",
       "dtype: int64"
      ]
     },
     "execution_count": 13,
     "metadata": {},
     "output_type": "execute_result"
    }
   ],
   "source": [
    "races_2024.isnull().sum()"
   ]
  },
  {
   "cell_type": "code",
   "execution_count": 14,
   "id": "f000c6c3",
   "metadata": {},
   "outputs": [
    {
     "data": {
      "text/plain": [
       "Year                2\n",
       "Winner              2\n",
       "Country             2\n",
       "Time                2\n",
       "Distance (Miles)    2\n",
       "Distance (KM)       2\n",
       "dtype: int64"
      ]
     },
     "execution_count": 14,
     "metadata": {},
     "output_type": "execute_result"
    }
   ],
   "source": [
    "boston_men.isnull().sum()"
   ]
  },
  {
   "cell_type": "code",
   "execution_count": 15,
   "id": "c36c1884",
   "metadata": {},
   "outputs": [
    {
     "data": {
      "text/plain": [
       "Year                1\n",
       "Winner              1\n",
       "Country             1\n",
       "Time                1\n",
       "Distance (Miles)    0\n",
       "Distance (KM)       0\n",
       "dtype: int64"
      ]
     },
     "execution_count": 15,
     "metadata": {},
     "output_type": "execute_result"
    }
   ],
   "source": [
    "boston_women.isnull().sum()"
   ]
  },
  {
   "cell_type": "markdown",
   "id": "84288d7f",
   "metadata": {},
   "source": [
    "There is a small number of missing values in the Boston Marathon Winners data. We will drop these rows safely in the cleaning phase since there are very few."
   ]
  },
  {
   "cell_type": "code",
   "execution_count": 16,
   "id": "96f5c075",
   "metadata": {},
   "outputs": [
    {
     "data": {
      "text/plain": [
       "Category       0\n",
       "Subcategory    0\n",
       "Value          0\n",
       "Type           0\n",
       "dtype: int64"
      ]
     },
     "execution_count": 16,
     "metadata": {},
     "output_type": "execute_result"
    }
   ],
   "source": [
    "survey_summary.isnull().sum()"
   ]
  },
  {
   "cell_type": "code",
   "execution_count": 17,
   "id": "d94607bb",
   "metadata": {},
   "outputs": [],
   "source": [
    "#All columns lowercase and replace spaces with underscore\n",
    "\n",
    "def clean_columns(df):\n",
    "    df.columns = df.columns.str.lower().str.replace(' ', '_')\n",
    "    return df\n",
    "\n",
    "results_2023 = clean_columns(results_2023)\n",
    "results_2024 = clean_columns(results_2024)\n",
    "races_2023 = clean_columns(races_2023)\n",
    "races_2024 = clean_columns(races_2024)\n",
    "boston_men = clean_columns(boston_men)\n",
    "boston_women = clean_columns(boston_women)\n",
    "survey_summary = clean_columns(survey_summary)"
   ]
  },
  {
   "cell_type": "code",
   "execution_count": 18,
   "id": "7d5aae67",
   "metadata": {},
   "outputs": [],
   "source": [
    "#NaN for missing `Age` in 2024 results dataset\n",
    "\n",
    "results_2024['age'] = np.nan"
   ]
  },
  {
   "cell_type": "code",
   "execution_count": 19,
   "id": "1714e3bc",
   "metadata": {},
   "outputs": [],
   "source": [
    "#Drop missing rows in Boston Marathon Datasets\n",
    "\n",
    "boston_men.dropna(subset = ['year', 'winner', 'country', 'time'], inplace = True)\n",
    "boston_women.dropna(subset = ['year', 'winner', 'country', 'time'], inplace = True)"
   ]
  },
  {
   "cell_type": "code",
   "execution_count": 20,
   "id": "a5464d8d",
   "metadata": {},
   "outputs": [],
   "source": [
    "#Standardize Columns for Consistency\n",
    "\n",
    "boston_men = clean_columns(boston_men)\n",
    "boston_women = clean_columns(boston_women)"
   ]
  },
  {
   "cell_type": "code",
   "execution_count": 21,
   "id": "42c40887",
   "metadata": {},
   "outputs": [
    {
     "data": {
      "text/html": [
       "<div>\n",
       "<style scoped>\n",
       "    .dataframe tbody tr th:only-of-type {\n",
       "        vertical-align: middle;\n",
       "    }\n",
       "\n",
       "    .dataframe tbody tr th {\n",
       "        vertical-align: top;\n",
       "    }\n",
       "\n",
       "    .dataframe thead th {\n",
       "        text-align: right;\n",
       "    }\n",
       "</style>\n",
       "<table border=\"1\" class=\"dataframe\">\n",
       "  <thead>\n",
       "    <tr style=\"text-align: right;\">\n",
       "      <th></th>\n",
       "      <th>name</th>\n",
       "      <th>race</th>\n",
       "      <th>year</th>\n",
       "      <th>gender</th>\n",
       "      <th>finish</th>\n",
       "      <th>age_group</th>\n",
       "      <th>age</th>\n",
       "    </tr>\n",
       "  </thead>\n",
       "  <tbody>\n",
       "    <tr>\n",
       "      <th>0</th>\n",
       "      <td>Zouhair Talbi</td>\n",
       "      <td>Houston Marathon</td>\n",
       "      <td>2024</td>\n",
       "      <td>Men</td>\n",
       "      <td>7599</td>\n",
       "      <td>25-29</td>\n",
       "      <td>NaN</td>\n",
       "    </tr>\n",
       "    <tr>\n",
       "      <th>1</th>\n",
       "      <td>Tsedat Ayana</td>\n",
       "      <td>Houston Marathon</td>\n",
       "      <td>2024</td>\n",
       "      <td>Men</td>\n",
       "      <td>7620</td>\n",
       "      <td>25-29</td>\n",
       "      <td>NaN</td>\n",
       "    </tr>\n",
       "    <tr>\n",
       "      <th>2</th>\n",
       "      <td>Hendrik Pfeiffer</td>\n",
       "      <td>Houston Marathon</td>\n",
       "      <td>2024</td>\n",
       "      <td>Men</td>\n",
       "      <td>7634</td>\n",
       "      <td>30-34</td>\n",
       "      <td>NaN</td>\n",
       "    </tr>\n",
       "    <tr>\n",
       "      <th>3</th>\n",
       "      <td>Pat Tiernan</td>\n",
       "      <td>Houston Marathon</td>\n",
       "      <td>2024</td>\n",
       "      <td>Men</td>\n",
       "      <td>7665</td>\n",
       "      <td>25-29</td>\n",
       "      <td>NaN</td>\n",
       "    </tr>\n",
       "    <tr>\n",
       "      <th>4</th>\n",
       "      <td>Hugo Edgardo Catrileo Tapia</td>\n",
       "      <td>Houston Marathon</td>\n",
       "      <td>2024</td>\n",
       "      <td>Men</td>\n",
       "      <td>7724</td>\n",
       "      <td>25-29</td>\n",
       "      <td>NaN</td>\n",
       "    </tr>\n",
       "  </tbody>\n",
       "</table>\n",
       "</div>"
      ],
      "text/plain": [
       "                          name              race  year gender  finish  \\\n",
       "0                Zouhair Talbi  Houston Marathon  2024    Men    7599   \n",
       "1                 Tsedat Ayana  Houston Marathon  2024    Men    7620   \n",
       "2             Hendrik Pfeiffer  Houston Marathon  2024    Men    7634   \n",
       "3                  Pat Tiernan  Houston Marathon  2024    Men    7665   \n",
       "4  Hugo Edgardo Catrileo Tapia  Houston Marathon  2024    Men    7724   \n",
       "\n",
       "  age_group  age  \n",
       "0     25-29  NaN  \n",
       "1     25-29  NaN  \n",
       "2     30-34  NaN  \n",
       "3     25-29  NaN  \n",
       "4     25-29  NaN  "
      ]
     },
     "execution_count": 21,
     "metadata": {},
     "output_type": "execute_result"
    }
   ],
   "source": [
    "results_2024.head()"
   ]
  },
  {
   "cell_type": "code",
   "execution_count": 22,
   "id": "474793a4",
   "metadata": {},
   "outputs": [
    {
     "data": {
      "text/plain": [
       "year                0\n",
       "winner              0\n",
       "country             0\n",
       "time                0\n",
       "distance_(miles)    0\n",
       "distance_(km)       0\n",
       "dtype: int64"
      ]
     },
     "execution_count": 22,
     "metadata": {},
     "output_type": "execute_result"
    }
   ],
   "source": [
    "boston_men.isnull().sum()"
   ]
  },
  {
   "cell_type": "code",
   "execution_count": 23,
   "id": "762e06b1",
   "metadata": {},
   "outputs": [
    {
     "data": {
      "text/plain": [
       "year                0\n",
       "winner              0\n",
       "country             0\n",
       "time                0\n",
       "distance_(miles)    0\n",
       "distance_(km)       0\n",
       "dtype: int64"
      ]
     },
     "execution_count": 23,
     "metadata": {},
     "output_type": "execute_result"
    }
   ],
   "source": [
    "boston_women.isnull().sum()"
   ]
  },
  {
   "cell_type": "markdown",
   "id": "7523ae79",
   "metadata": {},
   "source": [
    "results_2024 now has the 'Age' column so we can combine it with results_2023. We dropped the rows in boston_men and boston_women so now there is zero null values."
   ]
  },
  {
   "cell_type": "markdown",
   "id": "9d2c5439",
   "metadata": {},
   "source": [
    "Need to verify columns are the same before we combine."
   ]
  },
  {
   "cell_type": "code",
   "execution_count": 24,
   "id": "65c33212",
   "metadata": {},
   "outputs": [
    {
     "data": {
      "text/plain": [
       "False"
      ]
     },
     "execution_count": 24,
     "metadata": {},
     "output_type": "execute_result"
    }
   ],
   "source": [
    "set(results_2023.columns) == set(results_2024.columns)"
   ]
  },
  {
   "cell_type": "code",
   "execution_count": 25,
   "id": "aff7ae11",
   "metadata": {},
   "outputs": [
    {
     "name": "stdout",
     "output_type": "stream",
     "text": [
      "Columns in 2023 not in 2024: {'age_bracket'}\n",
      "Columns in 2024 not in 2023: {'age_group'}\n"
     ]
    }
   ],
   "source": [
    "print('Columns in 2023 not in 2024:', set(results_2023.columns) - set(results_2024.columns))\n",
    "print('Columns in 2024 not in 2023:', set(results_2024.columns) - set(results_2023.columns))"
   ]
  },
  {
   "cell_type": "code",
   "execution_count": 27,
   "id": "6d92a3c7",
   "metadata": {},
   "outputs": [
    {
     "name": "stdout",
     "output_type": "stream",
     "text": [
      "2023 columns: Index(['name', 'race', 'year', 'gender', 'age', 'finish', 'age_bracket'], dtype='object')\n",
      "2024 columns: Index(['name', 'race', 'year', 'gender', 'finish', 'age_group', 'age'], dtype='object')\n",
      "2023 groups: ['55-59' 'Under 35' '50-54' '45-49' '35-39' '40-44' '60-64' 'Unknown'\n",
      " '65-69' '80 and Over' '70-74' '75-79']\n",
      "2024 groups: ['25-29' '30-34' '35-39' '40-44' '20-24' '45-49' '50-54' 'Under 20'\n",
      " '55-59' '60-64' '65-69' '70-74' '75-79' '80 and Over']\n"
     ]
    }
   ],
   "source": [
    "print(\"2023 columns:\", results_2023.columns)\n",
    "print(\"2024 columns:\", results_2024.columns)\n",
    "\n",
    "print(\"2023 groups:\", results_2023['age_bracket'].unique())\n",
    "print(\"2024 groups:\", results_2024['age_group'].unique())"
   ]
  },
  {
   "cell_type": "markdown",
   "id": "89b9c5af",
   "metadata": {},
   "source": [
    "Adding a function next to make consistent bins for the age groups in both results datasets."
   ]
  },
  {
   "cell_type": "code",
   "execution_count": 28,
   "id": "ef5f8679",
   "metadata": {},
   "outputs": [],
   "source": [
    "#Defining a function\n",
    "def standardize_age_group(age):\n",
    "    if pd.isnull(age):\n",
    "        return 'Unknown'\n",
    "    elif age < 20:\n",
    "        return 'Under 20'\n",
    "    elif 20 <= age <= 24:\n",
    "        return '20-24'\n",
    "    elif 25 <= age <= 29:\n",
    "        return '25-29'\n",
    "    elif 30 <= age <= 34:\n",
    "        return '30-34'\n",
    "    elif 35 <= age <= 39:\n",
    "        return '35-39'\n",
    "    elif 40 <= age <= 44:\n",
    "        return '40-44'\n",
    "    elif 45 <= age <= 49:\n",
    "        return '45-49'\n",
    "    elif 50 <= age <= 54:\n",
    "        return '50-54'\n",
    "    elif 55 <= age <= 59:\n",
    "        return '55-59'\n",
    "    elif 60 <= age <= 64:\n",
    "        return '60-64'\n",
    "    elif 65 <= age <= 69:\n",
    "        return '65-69'\n",
    "    elif 70 <= age <= 74:\n",
    "        return '70-74'\n",
    "    elif 75 <= age <= 79:\n",
    "        return '75-79'\n",
    "    else:\n",
    "        return '80 and Over'"
   ]
  },
  {
   "cell_type": "code",
   "execution_count": 29,
   "id": "3930cfc7",
   "metadata": {},
   "outputs": [],
   "source": [
    "results_2023['age_group'] = results_2023['age'].apply(standardize_age_group)\n",
    "results_2024['age_group'] = results_2024['age'].apply(standardize_age_group)"
   ]
  },
  {
   "cell_type": "code",
   "execution_count": null,
   "id": "43f90fbe",
   "metadata": {},
   "outputs": [
    {
     "name": "stdout",
     "output_type": "stream",
     "text": [
      "2023 columns: Index(['name', 'race', 'year', 'gender', 'age', 'finish', 'age_bracket',\n",
      "       'age_group'],\n",
      "      dtype='object')\n",
      "2024 columns: Index(['name', 'race', 'year', 'gender', 'finish', 'age_group', 'age'], dtype='object')\n"
     ]
    }
   ],
   "source": [
    "print('2023 columns:', results_2023.columns)\n",
    "print('2024 columns:', results_2024.columns)"
   ]
  },
  {
   "cell_type": "code",
   "execution_count": 31,
   "id": "ec245210",
   "metadata": {},
   "outputs": [],
   "source": [
    "#Drop the 'age_bracket' from 2023 since its redundant\n",
    "results_2023 = results_2023.drop(columns = ['age_bracket'])"
   ]
  },
  {
   "cell_type": "code",
   "execution_count": 32,
   "id": "32c31891",
   "metadata": {},
   "outputs": [
    {
     "name": "stdout",
     "output_type": "stream",
     "text": [
      "2023 columns after drop: Index(['name', 'race', 'year', 'gender', 'age', 'finish', 'age_group'], dtype='object')\n",
      "2024 columns: Index(['name', 'race', 'year', 'gender', 'finish', 'age_group', 'age'], dtype='object')\n"
     ]
    }
   ],
   "source": [
    "print('2023 columns after drop:', results_2023.columns)\n",
    "print('2024 columns:', results_2024.columns)"
   ]
  },
  {
   "cell_type": "code",
   "execution_count": 33,
   "id": "de953480",
   "metadata": {},
   "outputs": [],
   "source": [
    "#Getting the columns in the correct order\n",
    "results_2024 = results_2024[['name', 'race', 'year', 'gender', 'age', 'finish', 'age_group']]"
   ]
  },
  {
   "cell_type": "code",
   "execution_count": 35,
   "id": "8bed01ea",
   "metadata": {},
   "outputs": [
    {
     "name": "stdout",
     "output_type": "stream",
     "text": [
      "2023 columns: Index(['name', 'race', 'year', 'gender', 'age', 'finish', 'age_group'], dtype='object')\n",
      "2024 columns: Index(['name', 'race', 'year', 'gender', 'age', 'finish', 'age_group'], dtype='object')\n"
     ]
    }
   ],
   "source": [
    "print('2023 columns:', results_2023.columns)\n",
    "print('2024 columns:', results_2024.columns)"
   ]
  },
  {
   "cell_type": "code",
   "execution_count": 36,
   "id": "f9d70bf8",
   "metadata": {},
   "outputs": [],
   "source": [
    "combined_results = pd.concat([results_2023, results_2024], ignore_index = True)"
   ]
  },
  {
   "cell_type": "code",
   "execution_count": 37,
   "id": "e36d682d",
   "metadata": {},
   "outputs": [
    {
     "name": "stdout",
     "output_type": "stream",
     "text": [
      "<class 'pandas.core.frame.DataFrame'>\n",
      "RangeIndex: 1026921 entries, 0 to 1026920\n",
      "Data columns (total 7 columns):\n",
      " #   Column     Non-Null Count    Dtype  \n",
      "---  ------     --------------    -----  \n",
      " 0   name       1026921 non-null  object \n",
      " 1   race       1026921 non-null  object \n",
      " 2   year       1026921 non-null  int64  \n",
      " 3   gender     1026921 non-null  object \n",
      " 4   age        429266 non-null   float64\n",
      " 5   finish     1026921 non-null  int64  \n",
      " 6   age_group  1026921 non-null  object \n",
      "dtypes: float64(1), int64(2), object(4)\n",
      "memory usage: 54.8+ MB\n"
     ]
    }
   ],
   "source": [
    "combined_results.info()"
   ]
  },
  {
   "cell_type": "code",
   "execution_count": 38,
   "id": "3bd5acb1",
   "metadata": {},
   "outputs": [
    {
     "data": {
      "text/html": [
       "<div>\n",
       "<style scoped>\n",
       "    .dataframe tbody tr th:only-of-type {\n",
       "        vertical-align: middle;\n",
       "    }\n",
       "\n",
       "    .dataframe tbody tr th {\n",
       "        vertical-align: top;\n",
       "    }\n",
       "\n",
       "    .dataframe thead th {\n",
       "        text-align: right;\n",
       "    }\n",
       "</style>\n",
       "<table border=\"1\" class=\"dataframe\">\n",
       "  <thead>\n",
       "    <tr style=\"text-align: right;\">\n",
       "      <th></th>\n",
       "      <th>name</th>\n",
       "      <th>race</th>\n",
       "      <th>year</th>\n",
       "      <th>gender</th>\n",
       "      <th>age</th>\n",
       "      <th>finish</th>\n",
       "      <th>age_group</th>\n",
       "    </tr>\n",
       "  </thead>\n",
       "  <tbody>\n",
       "    <tr>\n",
       "      <th>0</th>\n",
       "      <td>Arunas Jurkus</td>\n",
       "      <td>Salt Lake City Marathon</td>\n",
       "      <td>2023</td>\n",
       "      <td>M</td>\n",
       "      <td>55.0</td>\n",
       "      <td>12907</td>\n",
       "      <td>55-59</td>\n",
       "    </tr>\n",
       "    <tr>\n",
       "      <th>1</th>\n",
       "      <td>Seth Reed</td>\n",
       "      <td>Salt Lake City Marathon</td>\n",
       "      <td>2023</td>\n",
       "      <td>M</td>\n",
       "      <td>24.0</td>\n",
       "      <td>12921</td>\n",
       "      <td>20-24</td>\n",
       "    </tr>\n",
       "    <tr>\n",
       "      <th>2</th>\n",
       "      <td>Mufaro Chivasa</td>\n",
       "      <td>Salt Lake City Marathon</td>\n",
       "      <td>2023</td>\n",
       "      <td>M</td>\n",
       "      <td>54.0</td>\n",
       "      <td>12948</td>\n",
       "      <td>50-54</td>\n",
       "    </tr>\n",
       "    <tr>\n",
       "      <th>3</th>\n",
       "      <td>Adam Cheney</td>\n",
       "      <td>Salt Lake City Marathon</td>\n",
       "      <td>2023</td>\n",
       "      <td>M</td>\n",
       "      <td>22.0</td>\n",
       "      <td>12954</td>\n",
       "      <td>20-24</td>\n",
       "    </tr>\n",
       "    <tr>\n",
       "      <th>4</th>\n",
       "      <td>Michael Pyles</td>\n",
       "      <td>Salt Lake City Marathon</td>\n",
       "      <td>2023</td>\n",
       "      <td>M</td>\n",
       "      <td>33.0</td>\n",
       "      <td>12964</td>\n",
       "      <td>30-34</td>\n",
       "    </tr>\n",
       "  </tbody>\n",
       "</table>\n",
       "</div>"
      ],
      "text/plain": [
       "             name                     race  year gender   age  finish  \\\n",
       "0   Arunas Jurkus  Salt Lake City Marathon  2023      M  55.0   12907   \n",
       "1       Seth Reed  Salt Lake City Marathon  2023      M  24.0   12921   \n",
       "2  Mufaro Chivasa  Salt Lake City Marathon  2023      M  54.0   12948   \n",
       "3     Adam Cheney  Salt Lake City Marathon  2023      M  22.0   12954   \n",
       "4   Michael Pyles  Salt Lake City Marathon  2023      M  33.0   12964   \n",
       "\n",
       "  age_group  \n",
       "0     55-59  \n",
       "1     20-24  \n",
       "2     50-54  \n",
       "3     20-24  \n",
       "4     30-34  "
      ]
     },
     "execution_count": 38,
     "metadata": {},
     "output_type": "execute_result"
    }
   ],
   "source": [
    "combined_results.head()"
   ]
  },
  {
   "cell_type": "markdown",
   "id": "710afbac",
   "metadata": {},
   "source": [
    "Some results have exact ages while other only have an age group. For consistent analysis we convert age groups into approximate values and combine it with existing ages."
   ]
  },
  {
   "cell_type": "code",
   "execution_count": 39,
   "id": "5cfa4287",
   "metadata": {},
   "outputs": [],
   "source": [
    "#Define mapping from age groups to midpoints\n",
    "age_map = {\n",
    "    'Under 20': 18,\n",
    "    '20-24': 22,\n",
    "    '25-29': 27,\n",
    "    '30-34': 32,\n",
    "    '35-39': 37,\n",
    "    '40-44': 42,\n",
    "    '45-49': 47,\n",
    "    '50-54': 52,\n",
    "    '55-59': 57,\n",
    "    '60-64': 62,\n",
    "    '65-69': 67,\n",
    "    '70-74': 72,\n",
    "    '75-79': 77,\n",
    "    '80 and Over': 82,\n",
    "    'Unknown': np.nan\n",
    "}"
   ]
  },
  {
   "cell_type": "code",
   "execution_count": 40,
   "id": "4fad6725",
   "metadata": {},
   "outputs": [],
   "source": [
    "#New column age_numeric, prioritizing age otherwise use age_map\n",
    "combined_results['age_numeric'] = combined_results['age'].fillna(\n",
    "    combined_results['age_group'].map(age_map)\n",
    ")"
   ]
  },
  {
   "cell_type": "code",
   "execution_count": 41,
   "id": "5c8d0856",
   "metadata": {},
   "outputs": [
    {
     "data": {
      "text/html": [
       "<div>\n",
       "<style scoped>\n",
       "    .dataframe tbody tr th:only-of-type {\n",
       "        vertical-align: middle;\n",
       "    }\n",
       "\n",
       "    .dataframe tbody tr th {\n",
       "        vertical-align: top;\n",
       "    }\n",
       "\n",
       "    .dataframe thead th {\n",
       "        text-align: right;\n",
       "    }\n",
       "</style>\n",
       "<table border=\"1\" class=\"dataframe\">\n",
       "  <thead>\n",
       "    <tr style=\"text-align: right;\">\n",
       "      <th></th>\n",
       "      <th>age</th>\n",
       "      <th>age_group</th>\n",
       "      <th>age_numeric</th>\n",
       "    </tr>\n",
       "  </thead>\n",
       "  <tbody>\n",
       "    <tr>\n",
       "      <th>0</th>\n",
       "      <td>55.0</td>\n",
       "      <td>55-59</td>\n",
       "      <td>55.0</td>\n",
       "    </tr>\n",
       "    <tr>\n",
       "      <th>1</th>\n",
       "      <td>24.0</td>\n",
       "      <td>20-24</td>\n",
       "      <td>24.0</td>\n",
       "    </tr>\n",
       "    <tr>\n",
       "      <th>2</th>\n",
       "      <td>54.0</td>\n",
       "      <td>50-54</td>\n",
       "      <td>54.0</td>\n",
       "    </tr>\n",
       "    <tr>\n",
       "      <th>3</th>\n",
       "      <td>22.0</td>\n",
       "      <td>20-24</td>\n",
       "      <td>22.0</td>\n",
       "    </tr>\n",
       "    <tr>\n",
       "      <th>4</th>\n",
       "      <td>33.0</td>\n",
       "      <td>30-34</td>\n",
       "      <td>33.0</td>\n",
       "    </tr>\n",
       "    <tr>\n",
       "      <th>5</th>\n",
       "      <td>30.0</td>\n",
       "      <td>30-34</td>\n",
       "      <td>30.0</td>\n",
       "    </tr>\n",
       "    <tr>\n",
       "      <th>6</th>\n",
       "      <td>31.0</td>\n",
       "      <td>30-34</td>\n",
       "      <td>31.0</td>\n",
       "    </tr>\n",
       "    <tr>\n",
       "      <th>7</th>\n",
       "      <td>28.0</td>\n",
       "      <td>25-29</td>\n",
       "      <td>28.0</td>\n",
       "    </tr>\n",
       "    <tr>\n",
       "      <th>8</th>\n",
       "      <td>20.0</td>\n",
       "      <td>20-24</td>\n",
       "      <td>20.0</td>\n",
       "    </tr>\n",
       "    <tr>\n",
       "      <th>9</th>\n",
       "      <td>49.0</td>\n",
       "      <td>45-49</td>\n",
       "      <td>49.0</td>\n",
       "    </tr>\n",
       "    <tr>\n",
       "      <th>10</th>\n",
       "      <td>21.0</td>\n",
       "      <td>20-24</td>\n",
       "      <td>21.0</td>\n",
       "    </tr>\n",
       "    <tr>\n",
       "      <th>11</th>\n",
       "      <td>24.0</td>\n",
       "      <td>20-24</td>\n",
       "      <td>24.0</td>\n",
       "    </tr>\n",
       "    <tr>\n",
       "      <th>12</th>\n",
       "      <td>37.0</td>\n",
       "      <td>35-39</td>\n",
       "      <td>37.0</td>\n",
       "    </tr>\n",
       "    <tr>\n",
       "      <th>13</th>\n",
       "      <td>25.0</td>\n",
       "      <td>25-29</td>\n",
       "      <td>25.0</td>\n",
       "    </tr>\n",
       "    <tr>\n",
       "      <th>14</th>\n",
       "      <td>30.0</td>\n",
       "      <td>30-34</td>\n",
       "      <td>30.0</td>\n",
       "    </tr>\n",
       "    <tr>\n",
       "      <th>15</th>\n",
       "      <td>28.0</td>\n",
       "      <td>25-29</td>\n",
       "      <td>28.0</td>\n",
       "    </tr>\n",
       "    <tr>\n",
       "      <th>16</th>\n",
       "      <td>25.0</td>\n",
       "      <td>25-29</td>\n",
       "      <td>25.0</td>\n",
       "    </tr>\n",
       "    <tr>\n",
       "      <th>17</th>\n",
       "      <td>43.0</td>\n",
       "      <td>40-44</td>\n",
       "      <td>43.0</td>\n",
       "    </tr>\n",
       "    <tr>\n",
       "      <th>18</th>\n",
       "      <td>64.0</td>\n",
       "      <td>60-64</td>\n",
       "      <td>64.0</td>\n",
       "    </tr>\n",
       "    <tr>\n",
       "      <th>19</th>\n",
       "      <td>31.0</td>\n",
       "      <td>30-34</td>\n",
       "      <td>31.0</td>\n",
       "    </tr>\n",
       "  </tbody>\n",
       "</table>\n",
       "</div>"
      ],
      "text/plain": [
       "     age age_group  age_numeric\n",
       "0   55.0     55-59         55.0\n",
       "1   24.0     20-24         24.0\n",
       "2   54.0     50-54         54.0\n",
       "3   22.0     20-24         22.0\n",
       "4   33.0     30-34         33.0\n",
       "5   30.0     30-34         30.0\n",
       "6   31.0     30-34         31.0\n",
       "7   28.0     25-29         28.0\n",
       "8   20.0     20-24         20.0\n",
       "9   49.0     45-49         49.0\n",
       "10  21.0     20-24         21.0\n",
       "11  24.0     20-24         24.0\n",
       "12  37.0     35-39         37.0\n",
       "13  25.0     25-29         25.0\n",
       "14  30.0     30-34         30.0\n",
       "15  28.0     25-29         28.0\n",
       "16  25.0     25-29         25.0\n",
       "17  43.0     40-44         43.0\n",
       "18  64.0     60-64         64.0\n",
       "19  31.0     30-34         31.0"
      ]
     },
     "execution_count": 41,
     "metadata": {},
     "output_type": "execute_result"
    }
   ],
   "source": [
    "combined_results[['age', 'age_group', 'age_numeric']].head(20)"
   ]
  },
  {
   "cell_type": "code",
   "execution_count": 42,
   "id": "5ee662e7",
   "metadata": {},
   "outputs": [
    {
     "name": "stdout",
     "output_type": "stream",
     "text": [
      "<class 'pandas.core.frame.DataFrame'>\n",
      "RangeIndex: 1026921 entries, 0 to 1026920\n",
      "Data columns (total 8 columns):\n",
      " #   Column       Non-Null Count    Dtype  \n",
      "---  ------       --------------    -----  \n",
      " 0   name         1026921 non-null  object \n",
      " 1   race         1026921 non-null  object \n",
      " 2   year         1026921 non-null  int64  \n",
      " 3   gender       1026921 non-null  object \n",
      " 4   age          429266 non-null   float64\n",
      " 5   finish       1026921 non-null  int64  \n",
      " 6   age_group    1026921 non-null  object \n",
      " 7   age_numeric  429266 non-null   float64\n",
      "dtypes: float64(2), int64(2), object(4)\n",
      "memory usage: 62.7+ MB\n"
     ]
    }
   ],
   "source": [
    "combined_results.info()"
   ]
  },
  {
   "cell_type": "code",
   "execution_count": 43,
   "id": "df742843",
   "metadata": {},
   "outputs": [
    {
     "data": {
      "text/html": [
       "<div>\n",
       "<style scoped>\n",
       "    .dataframe tbody tr th:only-of-type {\n",
       "        vertical-align: middle;\n",
       "    }\n",
       "\n",
       "    .dataframe tbody tr th {\n",
       "        vertical-align: top;\n",
       "    }\n",
       "\n",
       "    .dataframe thead th {\n",
       "        text-align: right;\n",
       "    }\n",
       "</style>\n",
       "<table border=\"1\" class=\"dataframe\">\n",
       "  <thead>\n",
       "    <tr style=\"text-align: right;\">\n",
       "      <th></th>\n",
       "      <th>year</th>\n",
       "      <th>age</th>\n",
       "      <th>finish</th>\n",
       "      <th>age_numeric</th>\n",
       "    </tr>\n",
       "  </thead>\n",
       "  <tbody>\n",
       "    <tr>\n",
       "      <th>count</th>\n",
       "      <td>1.026921e+06</td>\n",
       "      <td>429266.000000</td>\n",
       "      <td>1.026921e+06</td>\n",
       "      <td>429266.000000</td>\n",
       "    </tr>\n",
       "    <tr>\n",
       "      <th>mean</th>\n",
       "      <td>2.023582e+03</td>\n",
       "      <td>39.344945</td>\n",
       "      <td>1.641320e+04</td>\n",
       "      <td>39.344945</td>\n",
       "    </tr>\n",
       "    <tr>\n",
       "      <th>std</th>\n",
       "      <td>4.932325e-01</td>\n",
       "      <td>13.562503</td>\n",
       "      <td>4.143824e+03</td>\n",
       "      <td>13.562503</td>\n",
       "    </tr>\n",
       "    <tr>\n",
       "      <th>min</th>\n",
       "      <td>2.023000e+03</td>\n",
       "      <td>-1.000000</td>\n",
       "      <td>6.806000e+03</td>\n",
       "      <td>-1.000000</td>\n",
       "    </tr>\n",
       "    <tr>\n",
       "      <th>25%</th>\n",
       "      <td>2.023000e+03</td>\n",
       "      <td>29.000000</td>\n",
       "      <td>1.348600e+04</td>\n",
       "      <td>29.000000</td>\n",
       "    </tr>\n",
       "    <tr>\n",
       "      <th>50%</th>\n",
       "      <td>2.024000e+03</td>\n",
       "      <td>39.000000</td>\n",
       "      <td>1.578000e+04</td>\n",
       "      <td>39.000000</td>\n",
       "    </tr>\n",
       "    <tr>\n",
       "      <th>75%</th>\n",
       "      <td>2.024000e+03</td>\n",
       "      <td>49.000000</td>\n",
       "      <td>1.866500e+04</td>\n",
       "      <td>49.000000</td>\n",
       "    </tr>\n",
       "    <tr>\n",
       "      <th>max</th>\n",
       "      <td>2.024000e+03</td>\n",
       "      <td>100.000000</td>\n",
       "      <td>6.229600e+04</td>\n",
       "      <td>100.000000</td>\n",
       "    </tr>\n",
       "  </tbody>\n",
       "</table>\n",
       "</div>"
      ],
      "text/plain": [
       "               year            age        finish    age_numeric\n",
       "count  1.026921e+06  429266.000000  1.026921e+06  429266.000000\n",
       "mean   2.023582e+03      39.344945  1.641320e+04      39.344945\n",
       "std    4.932325e-01      13.562503  4.143824e+03      13.562503\n",
       "min    2.023000e+03      -1.000000  6.806000e+03      -1.000000\n",
       "25%    2.023000e+03      29.000000  1.348600e+04      29.000000\n",
       "50%    2.024000e+03      39.000000  1.578000e+04      39.000000\n",
       "75%    2.024000e+03      49.000000  1.866500e+04      49.000000\n",
       "max    2.024000e+03     100.000000  6.229600e+04     100.000000"
      ]
     },
     "execution_count": 43,
     "metadata": {},
     "output_type": "execute_result"
    }
   ],
   "source": [
    "combined_results.describe()"
   ]
  },
  {
   "cell_type": "code",
   "execution_count": 44,
   "id": "5b22bd2a",
   "metadata": {},
   "outputs": [],
   "source": [
    "#Handle invalid ages\n",
    "combined_results = combined_results[combined_results['age_numeric'] > 0]"
   ]
  },
  {
   "cell_type": "code",
   "execution_count": 45,
   "id": "59e4ca7c",
   "metadata": {},
   "outputs": [],
   "source": [
    "#Finish time from seconds to hours (float)\n",
    "combined_results['finish_hours'] = combined_results['finish'] / 3600\n",
    "\n",
    "#Format to (HH:MM)\n",
    "combined_results['finished_hm'] = pd.to_timedelta(combined_results['finish'], unit = 's')"
   ]
  },
  {
   "cell_type": "code",
   "execution_count": 49,
   "id": "c25eb4b6",
   "metadata": {},
   "outputs": [],
   "source": [
    "races_combined = pd.concat([races_2023, races_2024])"
   ]
  },
  {
   "cell_type": "code",
   "execution_count": 54,
   "id": "7ecb4f17",
   "metadata": {},
   "outputs": [
    {
     "name": "stdout",
     "output_type": "stream",
     "text": [
      "Index(['race', 'year', 'date', 'finishers'], dtype='object')\n"
     ]
    }
   ],
   "source": [
    "print(races_combined.columns)"
   ]
  },
  {
   "cell_type": "markdown",
   "id": "b38a0f0a",
   "metadata": {},
   "source": [
    "## Participation Trends"
   ]
  },
  {
   "cell_type": "markdown",
   "id": "be264677",
   "metadata": {},
   "source": [
    "Which races had the highest participation in 2023 and 2024, and how did the number of finishers change year over year?"
   ]
  },
  {
   "cell_type": "code",
   "execution_count": 55,
   "id": "8ccfd821",
   "metadata": {},
   "outputs": [],
   "source": [
    "#Finishers per race\n",
    "race_counts = races_combined.groupby('race')['finishers'].sum().sort_values(ascending=False)"
   ]
  },
  {
   "cell_type": "code",
   "execution_count": 56,
   "id": "519adc0c",
   "metadata": {},
   "outputs": [],
   "source": [
    "#Top 20 races\n",
    "top_20_races = race_counts.head(20).index\n",
    "finishers_top20 = races_combined[races_combined['race'].isin(top_20_races)]"
   ]
  },
  {
   "cell_type": "code",
   "execution_count": 57,
   "id": "01f09904",
   "metadata": {},
   "outputs": [
    {
     "data": {
      "image/png": "[encoded data removed]",
      "text/plain": [
       "<Figure size 1200x600 with 1 Axes>"
      ]
     },
     "metadata": {},
     "output_type": "display_data"
    }
   ],
   "source": [
    "#Plot\n",
    "plt.figure(figsize = (12, 6))\n",
    "sns.barplot(data = finishers_top20, x = 'race', y = 'finishers', hue = 'year')\n",
    "plt.title('Number of Finishers in Top 20 Races (2023 vs 2024)')\n",
    "plt.xlabel('Race')\n",
    "plt.ylabel('Number of Finishers')\n",
    "plt.xticks(rotation = 45)\n",
    "plt.legend(title = 'Year')\n",
    "plt.tight_layout()\n",
    "plt.show()"
   ]
  },
  {
   "cell_type": "code",
   "execution_count": 62,
   "id": "12e6443e",
   "metadata": {},
   "outputs": [
    {
     "name": "stdout",
     "output_type": "stream",
     "text": [
      "year                                  2023     2024\n",
      "race                                               \n",
      "NYC Marathon                       51295.0  55525.0\n",
      "Chicago Marathon                   48574.0  52022.0\n",
      "Boston Marathon                    26600.0  25550.0\n",
      "LA Marathon                        16973.0  20475.0\n",
      "Honolulu Marathon                  15044.0  18984.0\n",
      "Marine Corps Marathon              13662.0  16168.0\n",
      "Disney World Marathon              12690.0  12710.0\n",
      "Philadelphia Marathon              11412.0  12381.0\n",
      "California International Marathon   9183.0   8373.0\n",
      "Grandma's Marathon                  7182.0   7548.0\n",
      "Houston Marathon                    6105.0   7180.0\n",
      "Twin Cities Marathon                   0.0   6797.0\n",
      "Indianapolis Monumental Marathon    4214.0   5672.0\n",
      "Richmond Marathon                   4083.0   5029.0\n",
      "Austin Marathon                     3192.0   4002.0\n",
      "St. George Marathon                 3815.0   3894.0\n",
      "Pittsburgh Marathon                 3000.0   3650.0\n",
      "Columbus Marathon                   3006.0   3585.0\n",
      "Big Sur International Marathon      3633.0   3433.0\n",
      "Dallas Marathon                     3377.0   3419.0\n"
     ]
    }
   ],
   "source": [
    "finishers_table = finishers_top20.pivot(index='race', columns='year', values='finishers').fillna(0)\n",
    "finishers_table = finishers_table.sort_values(by=2024, ascending=False)\n",
    "print(finishers_table)\n"
   ]
  }
 ],
 "metadata": {
  "kernelspec": {
   "display_name": "Python 3",
   "language": "python",
   "name": "python3"
  },
  "language_info": {
   "codemirror_mode": {
    "name": "ipython",
    "version": 3
   },
   "file_extension": ".py",
   "mimetype": "text/x-python",
   "name": "python",
   "nbconvert_exporter": "python",
   "pygments_lexer": "ipython3",
   "version": "3.13.7"
  }
 },
 "nbformat": 4,
 "nbformat_minor": 5
}
